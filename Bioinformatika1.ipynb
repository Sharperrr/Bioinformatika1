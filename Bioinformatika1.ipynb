{
  "nbformat": 4,
  "nbformat_minor": 0,
  "metadata": {
    "colab": {
      "provenance": []
    },
    "kernelspec": {
      "name": "python3",
      "display_name": "Python 3"
    },
    "language_info": {
      "name": "python"
    }
  },
  "cells": [
    {
      "cell_type": "code",
      "source": [
        "from Bio import SeqIO\n",
        "from Bio.Seq import Seq\n",
        "import numpy as np\n",
        "from collections import Counter\n",
        "import itertools"
      ],
      "metadata": {
        "id": "qGjGDVeT63I3"
      },
      "execution_count": 11,
      "outputs": []
    },
    {
      "cell_type": "code",
      "source": [
        "codontab = {\n",
        "    'TCA': 'S',    # Serina\n",
        "    'TCC': 'S',    # Serina\n",
        "    'TCG': 'S',    # Serina\n",
        "    'TCT': 'S',    # Serina\n",
        "    'TTC': 'F',    # Fenilalanina\n",
        "    'TTT': 'F',    # Fenilalanina\n",
        "    'TTA': 'L',    # Leucina\n",
        "    'TTG': 'L',    # Leucina\n",
        "    'TAC': 'Y',    # Tirosina\n",
        "    'TAT': 'Y',    # Tirosina\n",
        "    'TAA': '*',    # Stop\n",
        "    'TAG': '*',    # Stop\n",
        "    'TGC': 'C',    # Cisteina\n",
        "    'TGT': 'C',    # Cisteina\n",
        "    'TGA': '*',    # Stop\n",
        "    'TGG': 'W',    # Triptofano\n",
        "    'CTA': 'L',    # Leucina\n",
        "    'CTC': 'L',    # Leucina\n",
        "    'CTG': 'L',    # Leucina\n",
        "    'CTT': 'L',    # Leucina\n",
        "    'CCA': 'P',    # Prolina\n",
        "    'CCC': 'P',    # Prolina\n",
        "    'CCG': 'P',    # Prolina\n",
        "    'CCT': 'P',    # Prolina\n",
        "    'CAC': 'H',    # Histidina\n",
        "    'CAT': 'H',    # Histidina\n",
        "    'CAA': 'Q',    # Glutamina\n",
        "    'CAG': 'Q',    # Glutamina\n",
        "    'CGA': 'R',    # Arginina\n",
        "    'CGC': 'R',    # Arginina\n",
        "    'CGG': 'R',    # Arginina\n",
        "    'CGT': 'R',    # Arginina\n",
        "    'ATA': 'I',    # Isoleucina\n",
        "    'ATC': 'I',    # Isoleucina\n",
        "    'ATT': 'I',    # Isoleucina\n",
        "    'ATG': 'M',    # Methionina\n",
        "    'ACA': 'T',    # Treonina\n",
        "    'ACC': 'T',    # Treonina\n",
        "    'ACG': 'T',    # Treonina\n",
        "    'ACT': 'T',    # Treonina\n",
        "    'AAC': 'N',    # Asparagina\n",
        "    'AAT': 'N',    # Asparagina\n",
        "    'AAA': 'K',    # Lisina\n",
        "    'AAG': 'K',    # Lisina\n",
        "    'AGC': 'S',    # Serina\n",
        "    'AGT': 'S',    # Serina\n",
        "    'AGA': 'R',    # Arginina\n",
        "    'AGG': 'R',    # Arginina\n",
        "    'GTA': 'V',    # Valina\n",
        "    'GTC': 'V',    # Valina\n",
        "    'GTG': 'V',    # Valina\n",
        "    'GTT': 'V',    # Valina\n",
        "    'GCA': 'A',    # Alanina\n",
        "    'GCC': 'A',    # Alanina\n",
        "    'GCG': 'A',    # Alanina\n",
        "    'GCT': 'A',    # Alanina\n",
        "    'GAC': 'D',    # Acido Aspartico\n",
        "    'GAT': 'D',    # Acido Aspartico\n",
        "    'GAA': 'E',    # Acido Glutamico\n",
        "    'GAG': 'E',    # Acido Glutamico\n",
        "    'GGA': 'G',    # Glicina\n",
        "    'GGC': 'G',    # Glicina\n",
        "    'GGG': 'G',    # Glicina\n",
        "    'GGT': 'G'     # Glicina\n",
        "}"
      ],
      "metadata": {
        "id": "QH6kxNXpd0Aa"
      },
      "execution_count": 60,
      "outputs": []
    },
    {
      "cell_type": "code",
      "source": [
        "def read_fasta(file):\n",
        "    sequences = []\n",
        "    for record in SeqIO.parse(file, \"fasta\"):\n",
        "        sequences.append(str(record.seq))\n",
        "    return sequences"
      ],
      "metadata": {
        "id": "0Xyqbdlh7GyG"
      },
      "execution_count": 13,
      "outputs": []
    },
    {
      "cell_type": "code",
      "source": [
        "def reverse_complement(seq):\n",
        "    complement = {'A': 'T', 'T': 'A', 'C': 'G', 'G': 'C'}\n",
        "    reverse_seq = ''.join([complement[base] for base in reversed(seq)])\n",
        "    return reverse_seq"
      ],
      "metadata": {
        "id": "ZDfA4XhzG0U8"
      },
      "execution_count": 29,
      "outputs": []
    },
    {
      "cell_type": "code",
      "source": [
        "def generate_frames(seq):\n",
        "    frame1 = seq\n",
        "    frame2 = seq[1:]\n",
        "    frame3 = seq[2:]\n",
        "\n",
        "    rev_comp_seq = reverse_complement(seq)\n",
        "    frame4 = rev_comp_seq\n",
        "    frame5 = rev_comp_seq[1:]\n",
        "    frame6 = rev_comp_seq[2:]\n",
        "\n",
        "    return [frame1, frame2, frame3, frame4, frame5, frame6]\n"
      ],
      "metadata": {
        "id": "KZTN4b8jaXXt"
      },
      "execution_count": 45,
      "outputs": []
    },
    {
      "cell_type": "code",
      "source": [
        "def split_into_codons(frames):\n",
        "    frames_in_codons = []\n",
        "    for frame in frames:\n",
        "        codons = [frame[i:i+3] for i in range(0, len(frame), 3)]\n",
        "        codons = [codon for codon in codons if len(codon) == 3] # išmetame nepilnus kodonus\n",
        "        frames_in_codons.append(codons)\n",
        "    return frames_in_codons"
      ],
      "metadata": {
        "id": "IiZBeSEXcFu4"
      },
      "execution_count": 52,
      "outputs": []
    },
    {
      "cell_type": "code",
      "source": [
        "def translate_frames(frames):\n",
        "    translated_frames = []\n",
        "    for frame in frames:\n",
        "        translated_frame = []\n",
        "        for codon in frame:\n",
        "          if codon in codontab:\n",
        "            translated_frame.append(codontab[codon])\n",
        "        translated_frames.append(translated_frame)\n",
        "    return translated_frames\n"
      ],
      "metadata": {
        "id": "vD-_Uo_Ue2Ia"
      },
      "execution_count": 61,
      "outputs": []
    },
    {
      "cell_type": "code",
      "source": [
        "def find_protein_sequences(frame):\n",
        "    protein_sequences = []\n",
        "    protein_start_codons = ['M']\n",
        "    protein_stop_codons = ['*']\n",
        "\n",
        "    protein_start = -1\n",
        "    for i in range(0, len(frame)):\n",
        "        if frame[i] in protein_start_codons and protein_start == -1:\n",
        "            protein_start = i\n",
        "        elif frame[i] in protein_stop_codons and protein_start != -1:\n",
        "            if len(frame[protein_start : i+1]) >= 33:\n",
        "                protein_sequences.append(frame[protein_start+1 : i])\n",
        "            protein_start = -1\n",
        "    return protein_sequences"
      ],
      "metadata": {
        "id": "r16oUIPlf6a3"
      },
      "execution_count": 93,
      "outputs": []
    },
    {
      "cell_type": "code",
      "source": [
        "def amino_acid_frequency(frames, protein_sequences):\n",
        "    # Apskaičiuojame kiek viso kartojasi aminorūgštys\n",
        "    amino_acid_counts = {}\n",
        "    for frame in frames:\n",
        "        for amino_acid in frame:\n",
        "            if amino_acid in codontab.values():\n",
        "                if amino_acid not in amino_acid_counts:\n",
        "                    amino_acid_counts[amino_acid] = 0\n",
        "                amino_acid_counts[amino_acid] += 1\n",
        "\n",
        "    # Apskaičiuojame kiek baltymų sekose kartojasi aminorūgštys\n",
        "    protein_amino_acid_counts = {}\n",
        "    for protein_sequence in protein_sequences:\n",
        "        for amino_acid in protein_sequence:\n",
        "            if amino_acid in codontab.values():\n",
        "                if amino_acid not in protein_amino_acid_counts:\n",
        "                    protein_amino_acid_counts[amino_acid] = 0\n",
        "                protein_amino_acid_counts[amino_acid] += 1\n",
        "\n",
        "    # Gauname aminorūgščių pasikartojimo dažnį baltymų sekose\n",
        "    amino_acid_frequencies = {}\n",
        "    for amino_acid in amino_acid_counts:\n",
        "        if amino_acid in protein_amino_acid_counts:\n",
        "            amino_acid_frequencies[amino_acid] = protein_amino_acid_counts[amino_acid] / amino_acid_counts[amino_acid]\n",
        "        else:\n",
        "            amino_acid_frequencies[amino_acid] = 0\n",
        "\n",
        "    return amino_acid_frequencies\n"
      ],
      "metadata": {
        "id": "ZmgTuJASma0e"
      },
      "execution_count": 88,
      "outputs": []
    },
    {
      "cell_type": "code",
      "source": [
        "def main(file):\n",
        "    sequences = read_fasta(file)\n",
        "    frames = generate_frames(sequences[0])\n",
        "    split_frames = split_into_codons(frames)\n",
        "    translated_frames = translate_frames(split_frames)\n",
        "\n",
        "    all_protein_sequences = []\n",
        "    for frame in translated_frames:\n",
        "      protein_sequences = find_protein_sequences(frame)\n",
        "      all_protein_sequences.extend(protein_sequences)\n",
        "\n",
        "    frequencies = amino_acid_frequency(translated_frames, all_protein_sequences)\n",
        "\n",
        "    return split_frames, translated_frames, all_protein_sequences, frequencies"
      ],
      "metadata": {
        "id": "YUCGRPJxm7hb"
      },
      "execution_count": 83,
      "outputs": []
    },
    {
      "cell_type": "code",
      "source": [
        "bacterial1_split, bacterial1_translated, bacterial1_protein, bacterial1_frequency = main('/content/bacterial1.fasta')\n",
        "bacterial2_split, bacterial2_translated, bacterial2_protein, bacterial2_frequency = main('/content/bacterial2.fasta')\n",
        "bacterial3_split, bacterial3_translated, bacterial3_protein, bacterial3_frequency = main('/content/bacterial3.fasta')\n",
        "bacterial4_split, bacterial4_translated, bacterial4_protein, bacterial4_frequency = main('/content/bacterial4.fasta')\n",
        "\n",
        "mamalian1_split, mamalian1_translated, mamalian1_protein, mamalian1_frequency = main('/content/mamalian1.fasta')\n",
        "mamalian2_split, mamalian2_translated, mamalian2_protein, mamalian2_frequency = main('/content/mamalian2.fasta')\n",
        "mamalian3_split, mamalian3_translated, mamalian3_protein, mamalian3_frequency = main('/content/mamalian3.fasta')\n",
        "mamalian4_split, mamalian4_translated, mamalian4_protein, mamalian4_frequency = main('/content/mamalian4.fasta')"
      ],
      "metadata": {
        "id": "eBCJNqLWnQ-3"
      },
      "execution_count": 94,
      "outputs": []
    },
    {
      "cell_type": "code",
      "source": [
        "import numpy as np\n",
        "import itertools\n",
        "\n",
        "frequency_dicts = {\n",
        "    'bacterial1': bacterial1_frequency,\n",
        "    'bacterial2': bacterial2_frequency,\n",
        "    'bacterial3': bacterial3_frequency,\n",
        "    'bacterial4': bacterial4_frequency,\n",
        "    'mamalian1': mamalian1_frequency,\n",
        "    'mamalian2': mamalian2_frequency,\n",
        "    'mamalian3': mamalian3_frequency,\n",
        "    'mamalian4': mamalian4_frequency\n",
        "}\n",
        "\n",
        "# Iš visų žodynų ištraukiame unikalų amino rūgščių sąrašą\n",
        "all_amino_acids = set()\n",
        "for freq in frequency_dicts.values():\n",
        "    all_amino_acids.update(freq.keys())\n",
        "all_amino_acids = sorted(all_amino_acids)"
      ],
      "metadata": {
        "id": "oRfnMcgutjJP"
      },
      "execution_count": 115,
      "outputs": []
    },
    {
      "cell_type": "code",
      "source": [
        "# Sukuriame pavadinimų sąrašą\n",
        "labels = list(frequency_dicts.keys())\n",
        "\n",
        "# Sukuriame matricą\n",
        "frequency_matrix = []\n",
        "for label in labels:\n",
        "    freq = frequency_dicts[label]\n",
        "    vector = [freq.get(aa, 0) for aa in all_amino_acids]\n",
        "    frequency_matrix.append(vector)\n",
        "\n",
        "frequency_matrix = np.array(frequency_matrix)"
      ],
      "metadata": {
        "id": "DyAQlf_UtwGz"
      },
      "execution_count": 114,
      "outputs": []
    },
    {
      "cell_type": "code",
      "source": [
        "from scipy.spatial.distance import pdist, squareform\n",
        "\n",
        "def compute_distance_matrix(matrix, method='euclidean'):\n",
        "    distances = pdist(matrix, metric=method)\n",
        "    distance_matrix = squareform(distances)\n",
        "    return distance_matrix\n",
        "\n",
        "# Skaičiuojame atstumus\n",
        "distance_matrix = compute_distance_matrix(frequency_matrix, method='euclidean')"
      ],
      "metadata": {
        "id": "v0R511mCtx8B"
      },
      "execution_count": 117,
      "outputs": []
    },
    {
      "cell_type": "code",
      "source": [
        "def write_phylip(distance_matrix, labels, output_file):\n",
        "\n",
        "    n = len(labels)\n",
        "    with open(output_file, 'w') as f:\n",
        "        f.write(f\"{n}\\n\")\n",
        "        for i in range(n):\n",
        "            label = labels[i]\n",
        "            # Truncate or pad label to 10 characters as per Phylip format\n",
        "            label = label.ljust(10)[:10]\n",
        "            distances = \" \".join([f\"{distance_matrix[i][j]:.3f}\" for j in range(n)])\n",
        "            f.write(f\"{label} {distances}\\n\")\n",
        "\n",
        "# Rašome atstumo matricą į Phylip formatą\n",
        "write_phylip(distance_matrix, labels, 'amino_acid_distance_matrix.phy')"
      ],
      "metadata": {
        "id": "QX2_vRubuFG0"
      },
      "execution_count": 119,
      "outputs": []
    },
    {
      "cell_type": "code",
      "source": [
        "from scipy.cluster.hierarchy import linkage, dendrogram\n",
        "import matplotlib.pyplot as plt\n",
        "\n",
        "def perform_clustering(distance_matrix, labels, method='average'):\n",
        "    linkage_matrix = linkage(squareform(distance_matrix), method=method)\n",
        "\n",
        "    plt.figure(figsize=(10, 7))\n",
        "    dendrogram(linkage_matrix, labels=labels, leaf_rotation=90)\n",
        "    plt.title('Hierarchinė klasterizacijos dendrograma')\n",
        "    plt.xlabel('Virusai')\n",
        "    plt.ylabel('Atstumas')\n",
        "    plt.tight_layout()\n",
        "    plt.show()\n",
        "\n",
        "perform_clustering(distance_matrix, labels, method='average')\n"
      ],
      "metadata": {
        "colab": {
          "base_uri": "https://localhost:8080/",
          "height": 707
        },
        "id": "lbdqxRC6uGxt",
        "outputId": "81bc58cd-97d8-4ce7-bc6b-5334c77f3495"
      },
      "execution_count": 118,
      "outputs": [
        {
          "output_type": "display_data",
          "data": {
            "text/plain": [
              "<Figure size 1000x700 with 1 Axes>"
            ],
            "image/png": "[encoded data removed]"
          },
          "metadata": {}
        }
      ]
    }
  ]
}